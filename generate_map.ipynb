{
 "cells": [
  {
   "cell_type": "code",
   "execution_count": 1,
   "metadata": {},
   "outputs": [],
   "source": [
    "from env import *\n",
    "\n",
    "def generate_random_env(map_size: Tuple[int, int], obstacle_num: int, target_num: int):\n",
    "    # 随机选择初始位置\n",
    "    init_position = (random.randint(0, map_size[0] - 1), random.randint(0, map_size[1] - 1))\n",
    "\n",
    "    # 随机生成障碍位置\n",
    "    obstacle_positions = []\n",
    "    while len(obstacle_positions) < obstacle_num:\n",
    "        pos = (random.randint(0, map_size[0] - 1), random.randint(0, map_size[1] - 1))\n",
    "        if pos != init_position and pos not in obstacle_positions:\n",
    "            obstacle_positions.append(pos)\n",
    "\n",
    "    # 随机生成目标位置\n",
    "    target_positions = []\n",
    "    while len(target_positions) < target_num:\n",
    "        pos = (random.randint(0, map_size[0] - 1), random.randint(0, map_size[1] - 1))\n",
    "        if pos != init_position and pos not in obstacle_positions and pos not in target_positions:\n",
    "            target_positions.append(pos)\n",
    "\n",
    "    return Env(map_size, init_position, target_positions, obstacle_positions)\n"
   ]
  },
  {
   "cell_type": "code",
   "execution_count": 4,
   "metadata": {},
   "outputs": [],
   "source": [
    "for i in range(100):\n",
    "    env = generate_random_env((7, 7), 7, 4)\n",
    "    j = env.to_json()\n",
    "    with open(f\"easymaps/{i}.map\", \"w\") as f:\n",
    "        f.write(j)"
   ]
  },
  {
   "cell_type": "code",
   "execution_count": null,
   "metadata": {},
   "outputs": [],
   "source": [
    "e = Env.json_to_env(open(\"easymaps\", \"r\").read())\n",
    "plot_env(e)"
   ]
  }
 ],
 "metadata": {
  "kernelspec": {
   "display_name": "base",
   "language": "python",
   "name": "python3"
  },
  "language_info": {
   "codemirror_mode": {
    "name": "ipython",
    "version": 3
   },
   "file_extension": ".py",
   "mimetype": "text/x-python",
   "name": "python",
   "nbconvert_exporter": "python",
   "pygments_lexer": "ipython3",
   "version": "3.12.7"
  }
 },
 "nbformat": 4,
 "nbformat_minor": 2
}
