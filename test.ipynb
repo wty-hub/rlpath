{
 "cells": [
  {
   "cell_type": "code",
   "execution_count": null,
   "metadata": {},
   "outputs": [
    {
     "name": "stdout",
     "output_type": "stream",
     "text": [
      "(0, 2)\n",
      "(1, 6)\n",
      "(1, 5)\n",
      "(1, 2)\n",
      "(1, 1)\n",
      "(2, 1)\n",
      "(4, 8)\n",
      "(4, 7)\n",
      "(4, 4)\n",
      "(4, 3)\n",
      "(5, 7)\n",
      "(5, 6)\n",
      "(5, 3)\n",
      "(6, 6)\n",
      "(8, 10)\n",
      "(8, 9)\n",
      "(8, 3)\n",
      "(9, 10)\n",
      "(9, 9)\n",
      "(9, 4)\n",
      "(9, 3)\n",
      "(10, 10)\n",
      "(10, 9)\n"
     ]
    }
   ],
   "source": [
    "import json\n",
    "\n",
    "Obstacle_x = [0 , 1, 1, 1, 1, 2 ,4 ,4 ,4 ,4 ,5, 5, 5, 6, 8,8 ,8 , 9, 9, 9,9, 10, 10]\n",
    "Obstacle_y = [2, 6, 5, 2,1 , 1, 8,7, 4, 3, 7,6 , 3, 6, 10, 9, 3, 10, 9, 4, 3, 10, 9]\n",
    "obstacle_positions = list()\n",
    "for pos in zip(Obstacle_x, Obstacle_y):\n",
    "    obstacle_positions.append(pos)\n",
    "    print(pos)"
   ]
  },
  {
   "cell_type": "code",
   "execution_count": null,
   "metadata": {},
   "outputs": [],
   "source": []
  }
 ],
 "metadata": {
  "kernelspec": {
   "display_name": "torch",
   "language": "python",
   "name": "python3"
  },
  "language_info": {
   "codemirror_mode": {
    "name": "ipython",
    "version": 3
   },
   "file_extension": ".py",
   "mimetype": "text/x-python",
   "name": "python",
   "nbconvert_exporter": "python",
   "pygments_lexer": "ipython3",
   "version": "3.8.20"
  }
 },
 "nbformat": 4,
 "nbformat_minor": 2
}
